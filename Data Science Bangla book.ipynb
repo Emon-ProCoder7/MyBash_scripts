{
 "cells": [
  {
   "cell_type": "markdown",
   "metadata": {},
   "source": [
    "First line type \n",
    "%matplotlib inline\n",
    "then import pyplot"
   ]
  },
  {
   "cell_type": "code",
   "execution_count": 2,
   "metadata": {},
   "outputs": [],
   "source": [
    "%matplotlib inline\n",
    "from matplotlib import pyplot as plt"
   ]
  },
  {
   "cell_type": "code",
   "execution_count": 3,
   "metadata": {},
   "outputs": [],
   "source": [
    "import numpy as np\n",
    "x = np.array(range(10))\n",
    "y = np.array(range(10))"
   ]
  },
  {
   "cell_type": "markdown",
   "metadata": {},
   "source": [
    "Now plot X & Y"
   ]
  },
  {
   "cell_type": "code",
   "execution_count": 4,
   "metadata": {},
   "outputs": [
    {
     "data": {
      "image/png": "[encoded data removed]",
      "text/plain": [
       "<Figure size 432x288 with 1 Axes>"
      ]
     },
     "metadata": {
      "needs_background": "light"
     },
     "output_type": "display_data"
    }
   ],
   "source": [
    "plt.plot(x,y)\n",
    "plt.show()"
   ]
  },
  {
   "cell_type": "markdown",
   "metadata": {},
   "source": [
    "Calculating Mean from Numpy Array"
   ]
  },
  {
   "cell_type": "code",
   "execution_count": 5,
   "metadata": {},
   "outputs": [
    {
     "name": "stdout",
     "output_type": "stream",
     "text": [
      "15.5\n",
      "35.6\n"
     ]
    }
   ],
   "source": [
    "A = np.array(range(32))\n",
    "B = np.array([12,32,33,45,56])\n",
    "print(np.mean(A))\n",
    "print(np.mean(B))"
   ]
  },
  {
   "cell_type": "markdown",
   "metadata": {},
   "source": [
    "Calculating Median"
   ]
  },
  {
   "cell_type": "code",
   "execution_count": 6,
   "metadata": {},
   "outputs": [
    {
     "name": "stdout",
     "output_type": "stream",
     "text": [
      "15.5 15.5\n",
      "0.0\n"
     ]
    },
    {
     "data": {
      "text/plain": [
       "{'whiskers': [<matplotlib.lines.Line2D at 0x2752974eac8>,\n",
       "  <matplotlib.lines.Line2D at 0x27529792b38>],\n",
       " 'caps': [<matplotlib.lines.Line2D at 0x27529792e80>,\n",
       "  <matplotlib.lines.Line2D at 0x27529792f60>],\n",
       " 'boxes': [<matplotlib.lines.Line2D at 0x275297923c8>],\n",
       " 'medians': [<matplotlib.lines.Line2D at 0x2752979b550>],\n",
       " 'fliers': [<matplotlib.lines.Line2D at 0x2752979b898>],\n",
       " 'means': []}"
      ]
     },
     "execution_count": 6,
     "metadata": {},
     "output_type": "execute_result"
    },
    {
     "data": {
      "image/png": "[encoded data removed]",
      "text/plain": [
       "<Figure size 432x288 with 1 Axes>"
      ]
     },
     "metadata": {
      "needs_background": "light"
     },
     "output_type": "display_data"
    }
   ],
   "source": [
    "Q = np.median(A)\n",
    "W = np.mean(A)\n",
    "print(Q,W)\n",
    "print(Q-W)\n",
    "plt.boxplot(A)"
   ]
  },
  {
   "cell_type": "markdown",
   "metadata": {},
   "source": [
    "Lets Talk about another useful library SCIPY. It has STAT module.\n",
    "From that STAT module we can apply MODE."
   ]
  },
  {
   "cell_type": "code",
   "execution_count": 7,
   "metadata": {},
   "outputs": [
    {
     "name": "stdout",
     "output_type": "stream",
     "text": [
      "ModeResult(mode=array([7]), count=array([3]))\n"
     ]
    }
   ],
   "source": [
    "from scipy import stats\n",
    "x = np.array([1,3,56,43,3,5,5,7,7,7,8,56,78])\n",
    "print(stats.mode(x))"
   ]
  },
  {
   "cell_type": "markdown",
   "metadata": {},
   "source": [
    "Random Distribution: Lets plot histogram using matploltlib. Here hist(x,15) 15=REFERS TO THE No. OF BARS. Histogram has only X axis data point."
   ]
  },
  {
   "cell_type": "code",
   "execution_count": 8,
   "metadata": {},
   "outputs": [
    {
     "data": {
      "image/png": "[encoded data removed]",
      "text/plain": [
       "<Figure size 432x288 with 1 Axes>"
      ]
     },
     "metadata": {
      "needs_background": "light"
     },
     "output_type": "display_data"
    }
   ],
   "source": [
    "x = np.array([20, 30, 30, 30, 20, 20, 50, 20, 20, 30, 40, 40, 40,  50, 60, 60, 90])\n",
    "plt.hist(x,15)\n",
    "plt.show()"
   ]
  },
  {
   "cell_type": "markdown",
   "metadata": {},
   "source": [
    "Normal Distribution\\Bell Curve: First find out the central measure(Mean, Median, Mode). That would be the central point. In case of normal distribution centrality measure(Mean, Median, Mode) would be the same."
   ]
  },
  {
   "cell_type": "code",
   "execution_count": 9,
   "metadata": {},
   "outputs": [
    {
     "data": {
      "image/png": "[encoded data removed]",
      "text/plain": [
       "<Figure size 432x288 with 1 Axes>"
      ]
     },
     "metadata": {
      "needs_background": "light"
     },
     "output_type": "display_data"
    },
    {
     "name": "stdout",
     "output_type": "stream",
     "text": [
      "11.0\n",
      "11.194444444444445\n",
      "ModeResult(mode=array([11]), count=array([5]))\n"
     ]
    }
   ],
   "source": [
    "sizes = np.array([9, 8, 8, 9, 9, 1, 4, 5, 6, 7, 8, 9, 10, 10, 11, 11, 11, 11, 11, 13, 12, 12, 12, 12, 13, 13, 14, 14, 14, 15, 15, 15, 16, 17, 18, 20])\n",
    "plt.hist(sizes)\n",
    "plt.show()\n",
    "print(np.median(sizes))\n",
    "print(np.mean(sizes))\n",
    "print(stats.mode(sizes))"
   ]
  },
  {
   "cell_type": "markdown",
   "metadata": {},
   "source": [
    "Variance & Standard Deviation: Variance is the square of DISTANCE of any data ELEMENT from MEAN and their mean. STANDARD DEVIATION is the sq.root of VARIANCE"
   ]
  },
  {
   "cell_type": "code",
   "execution_count": 10,
   "metadata": {},
   "outputs": [
    {
     "data": {
      "text/plain": [
       "3.9144990061482714"
      ]
     },
     "execution_count": 10,
     "metadata": {},
     "output_type": "execute_result"
    }
   ],
   "source": [
    "np.std(sizes)"
   ]
  },
  {
   "cell_type": "raw",
   "metadata": {},
   "source": [
    "Numpy randomize function for creation of Dataset._(np.random).\n",
    "Normal distribution of the random data_(NP.random.Normal).\n",
    "np.random.normal(2700=central point, SD=15000, No. of data=10,000)"
   ]
  },
  {
   "cell_type": "code",
   "execution_count": 24,
   "metadata": {},
   "outputs": [
    {
     "name": "stdout",
     "output_type": "stream",
     "text": [
      "27129.503816707533\n",
      "27203.59569609714\n",
      "[32264.99964096 29671.50135193 42387.5931274  ... 47496.00816972\n",
      "  6576.31243583 52814.67716562]\n"
     ]
    },
    {
     "data": {
      "image/png": "[encoded data removed]",
      "text/plain": [
       "<Figure size 432x288 with 1 Axes>"
      ]
     },
     "metadata": {
      "needs_background": "light"
     },
     "output_type": "display_data"
    },
    {
     "name": "stdout",
     "output_type": "stream",
     "text": [
      "27203.59569609714\n"
     ]
    },
    {
     "data": {
      "image/png": "[encoded data removed]",
      "text/plain": [
       "<Figure size 432x288 with 1 Axes>"
      ]
     },
     "metadata": {
      "needs_background": "light"
     },
     "output_type": "display_data"
    }
   ],
   "source": [
    "incomes=np.random.normal(27000,15000,10000)\n",
    "print(np.mean(incomes))\n",
    "print(np.median(incomes))\n",
    "print(incomes)\n",
    "plt.hist(incomes,50)\n",
    "plt.show()\n",
    "plt.boxplot(incomes)\n",
    "# Lets append an outlier in that income and check for median if it changes\n",
    "np.append(incomes,100000000)\n",
    "print(np.median(incomes))"
   ]
  },
  {
   "cell_type": "code",
   "execution_count": null,
   "metadata": {},
   "outputs": [],
   "source": []
  }
 ],
 "metadata": {
  "kernelspec": {
   "display_name": "Python 3",
   "language": "python",
   "name": "python3"
  },
  "language_info": {
   "codemirror_mode": {
    "name": "ipython",
    "version": 3
   },
   "file_extension": ".py",
   "mimetype": "text/x-python",
   "name": "python",
   "nbconvert_exporter": "python",
   "pygments_lexer": "ipython3",
   "version": "3.7.3"
  }
 },
 "nbformat": 4,
 "nbformat_minor": 2
}
